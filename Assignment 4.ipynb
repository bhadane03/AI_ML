{
 "cells": [
  {
   "cell_type": "markdown",
   "metadata": {},
   "source": [
    "### 1.1 Write a Python Program(with class concepts) to find the area of the triangle using the below formula.\n",
    "### area = (s*(s-a)*(s-b)*(s-c)) ** 0.5\n",
    "### Function to take the length of the sides of triangle from user should be defined in the parent class and function to calculate the area should be defined in subclass."
   ]
  },
  {
   "cell_type": "code",
   "execution_count": 4,
   "metadata": {},
   "outputs": [
    {
     "name": "stdout",
     "output_type": "stream",
     "text": [
      "area=  24.0\n"
     ]
    }
   ],
   "source": [
    "import math\n",
    "class Triangle():\n",
    "    def __init__(self, a, b, c):\n",
    "        self.a= a\n",
    "        self.b= b\n",
    "        self.c= c\n",
    "\n",
    "\n",
    "class Calculate(Triangle):\n",
    "    def __init__(self, *args):\n",
    "        super(Calculate, self).__init__(*args)\n",
    "\n",
    "    def area(self):\n",
    "        s=(self.a+self.b+self.c)/2\n",
    "        area=math.sqrt(s*(s-self.a)*(s-self.b)*(s-self.c))\n",
    "        return area\n",
    "        \n",
    "\n",
    "calculate= Calculate(4,13,15)\n",
    "print (\"area= \",calculate.area())"
   ]
  },
  {
   "cell_type": "markdown",
   "metadata": {},
   "source": [
    "### 1.2 Write a function filter_long_words() that takes a list of words and an integer n and returnsthe list of words that are longer than n."
   ]
  },
  {
   "cell_type": "code",
   "execution_count": 5,
   "metadata": {},
   "outputs": [
    {
     "name": "stdout",
     "output_type": "stream",
     "text": [
      "['Banana', 'Watermelon']\n"
     ]
    }
   ],
   "source": [
    "def filter_long_words(fruit,n):\n",
    "    fruit_name=[]\n",
    "    for i in fruit:\n",
    "        if len(i)>n:\n",
    "            fruit_name.append(i)\n",
    "    return fruit_name\n",
    "\n",
    "print(filter_long_words(['Apple','Banana','Watermelon','Mango'],5))\n"
   ]
  },
  {
   "cell_type": "markdown",
   "metadata": {},
   "source": [
    "### 2.1 Write a Python program using function concept that maps list of words into a list of integers representing the lengths of the corresponding words.\n",
    "### Hint: If a list [ ab,cde,erty] is passed on to the python function output should come as [2,3,4]\n",
    "### Here 2,3 and 4 are the lengths of the words in the list."
   ]
  },
  {
   "cell_type": "code",
   "execution_count": 6,
   "metadata": {},
   "outputs": [
    {
     "name": "stdout",
     "output_type": "stream",
     "text": [
      "[5, 6, 10, 5]\n"
     ]
    }
   ],
   "source": [
    "def length_of_words(fruit):\n",
    "    fruit_name=[]\n",
    "    for i in fruit:\n",
    "        fruit_name.append(len(i))\n",
    "    return fruit_name\n",
    "\n",
    "print(length_of_words(['Apple','Banana','Watermelon','Mango']))\n"
   ]
  },
  {
   "cell_type": "markdown",
   "metadata": {},
   "source": [
    "### 2.2 Write a Python function which takes a character (i.e. a string of length 1) and returns True if it is a vowel, False otherwise."
   ]
  },
  {
   "cell_type": "code",
   "execution_count": 10,
   "metadata": {},
   "outputs": [
    {
     "name": "stdout",
     "output_type": "stream",
     "text": [
      "True\n",
      "False\n",
      "False\n",
      "True\n",
      "True\n"
     ]
    }
   ],
   "source": [
    "def isVowel(char):\n",
    "\n",
    "    if char in 'aeiou':\n",
    "        \n",
    "        return True\n",
    "    else:\n",
    "        return False\n",
    "    \n",
    "print(isVowel(\"a\"))\n",
    "print(isVowel(\"c\"))\n",
    "print(isVowel(\"y\"))\n",
    "print(isVowel(\"e\"))\n",
    "print(isVowel(\"o\"))\n",
    "    \n"
   ]
  }
 ],
 "metadata": {
  "kernelspec": {
   "display_name": "Python 3",
   "language": "python",
   "name": "python3"
  },
  "language_info": {
   "codemirror_mode": {
    "name": "ipython",
    "version": 3
   },
   "file_extension": ".py",
   "mimetype": "text/x-python",
   "name": "python",
   "nbconvert_exporter": "python",
   "pygments_lexer": "ipython3",
   "version": "3.7.3"
  }
 },
 "nbformat": 4,
 "nbformat_minor": 2
}
